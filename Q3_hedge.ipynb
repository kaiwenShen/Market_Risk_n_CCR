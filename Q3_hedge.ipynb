{
 "cells": [
  {
   "cell_type": "code",
   "execution_count": 98,
   "id": "initial_id",
   "metadata": {
    "collapsed": true,
    "ExecuteTime": {
     "end_time": "2023-11-16T17:09:15.570615800Z",
     "start_time": "2023-11-16T17:09:15.393802400Z"
    }
   },
   "outputs": [],
   "source": [
    "import numpy as np\n",
    "import pandas as pd\n",
    "import scipy.stats as stats\n",
    "import matplotlib.pyplot as plt"
   ]
  },
  {
   "cell_type": "code",
   "execution_count": 99,
   "outputs": [],
   "source": [
    "beta_a=0.5\n",
    "beta_b=1.5\n",
    "std_index=0.2\n",
    "std_epsilon_a=0.15\n",
    "std_epsilon_b=0.3"
   ],
   "metadata": {
    "collapsed": false,
    "ExecuteTime": {
     "end_time": "2023-11-16T17:09:15.752615300Z",
     "start_time": "2023-11-16T17:09:15.400807100Z"
    }
   },
   "id": "8346c830e36c8d53"
  },
  {
   "cell_type": "code",
   "execution_count": 100,
   "outputs": [
    {
     "data": {
      "text/plain": "0.18027756377319948"
     },
     "execution_count": 100,
     "metadata": {},
     "output_type": "execute_result"
    }
   ],
   "source": [
    "var_a=beta_a**2*std_index**2+std_epsilon_a**2\n",
    "std_a=var_a**0.5\n",
    "std_a"
   ],
   "metadata": {
    "collapsed": false,
    "ExecuteTime": {
     "end_time": "2023-11-16T17:09:15.753616500Z",
     "start_time": "2023-11-16T17:09:15.414859500Z"
    }
   },
   "id": "4cb8defa392d079b"
  },
  {
   "cell_type": "code",
   "execution_count": 101,
   "outputs": [
    {
     "data": {
      "text/plain": "0.42426406871192857"
     },
     "execution_count": 101,
     "metadata": {},
     "output_type": "execute_result"
    }
   ],
   "source": [
    "var_b=beta_b**2*std_index**2+std_epsilon_b**2\n",
    "std_b=var_b**0.5\n",
    "std_b"
   ],
   "metadata": {
    "collapsed": false,
    "ExecuteTime": {
     "end_time": "2023-11-16T17:09:15.753616500Z",
     "start_time": "2023-11-16T17:09:15.429615600Z"
    }
   },
   "id": "b6368b931b7a4d6c"
  },
  {
   "cell_type": "code",
   "execution_count": 102,
   "outputs": [
    {
     "data": {
      "text/plain": "0.39223227027636803"
     },
     "execution_count": 102,
     "metadata": {},
     "output_type": "execute_result"
    }
   ],
   "source": [
    "corr_ab = (beta_a*beta_b*(std_index**2))/(std_a*std_b)\n",
    "corr_ab"
   ],
   "metadata": {
    "collapsed": false,
    "ExecuteTime": {
     "end_time": "2023-11-16T17:09:15.753616500Z",
     "start_time": "2023-11-16T17:09:15.446617800Z"
    }
   },
   "id": "2bcc26985ab6d423"
  },
  {
   "cell_type": "code",
   "execution_count": 103,
   "outputs": [
    {
     "data": {
      "text/plain": "0.5547001962252291"
     },
     "execution_count": 103,
     "metadata": {},
     "output_type": "execute_result"
    }
   ],
   "source": [
    "corr_ai= (beta_a*std_index**2)/(std_a*std_index)\n",
    "corr_ai"
   ],
   "metadata": {
    "collapsed": false,
    "ExecuteTime": {
     "end_time": "2023-11-16T17:09:15.753616500Z",
     "start_time": "2023-11-16T17:09:15.463614800Z"
    }
   },
   "id": "7fe04fb6a8afd2e7"
  },
  {
   "cell_type": "code",
   "execution_count": 104,
   "outputs": [
    {
     "data": {
      "text/plain": "0.7071067811865475"
     },
     "execution_count": 104,
     "metadata": {},
     "output_type": "execute_result"
    }
   ],
   "source": [
    "corr_bi= (beta_b*std_index**2)/(std_b*std_index)\n",
    "corr_bi"
   ],
   "metadata": {
    "collapsed": false,
    "ExecuteTime": {
     "end_time": "2023-11-16T17:09:15.754615600Z",
     "start_time": "2023-11-16T17:09:15.478615500Z"
    }
   },
   "id": "412f750fbc58faf6"
  },
  {
   "cell_type": "code",
   "execution_count": 105,
   "outputs": [
    {
     "data": {
      "text/plain": "1150"
     },
     "execution_count": 105,
     "metadata": {},
     "output_type": "execute_result"
    }
   ],
   "source": [
    "total_portfolio = 500+400+250\n",
    "total_portfolio"
   ],
   "metadata": {
    "collapsed": false,
    "ExecuteTime": {
     "end_time": "2023-11-16T17:09:15.754615600Z",
     "start_time": "2023-11-16T17:09:15.492619500Z"
    }
   },
   "id": "dc7f0f993eb45bfb"
  },
  {
   "cell_type": "code",
   "execution_count": 106,
   "outputs": [
    {
     "data": {
      "text/plain": "(0.43478260869565216, 0.34782608695652173, 0.21739130434782608)"
     },
     "execution_count": 106,
     "metadata": {},
     "output_type": "execute_result"
    }
   ],
   "source": [
    "w_a=500/total_portfolio\n",
    "w_b=400/total_portfolio\n",
    "w_i=250/total_portfolio\n",
    "w_a,w_b,w_i"
   ],
   "metadata": {
    "collapsed": false,
    "ExecuteTime": {
     "end_time": "2023-11-16T17:09:15.754615600Z",
     "start_time": "2023-11-16T17:09:15.508614800Z"
    }
   },
   "id": "e5aa00b0ee006ccd"
  },
  {
   "cell_type": "code",
   "execution_count": 107,
   "outputs": [],
   "source": [
    "variance_portfolio = w_a**2*var_a+w_b**2*var_b+w_i**2*std_index**2+2*w_a*w_b*std_a*std_b*corr_ab+2*w_a*w_i*std_a*std_index*corr_ai+2*w_b*w_i*std_b*std_index*corr_bi\n",
    "std_portfolio = variance_portfolio**0.5"
   ],
   "metadata": {
    "collapsed": false,
    "ExecuteTime": {
     "end_time": "2023-11-16T17:09:15.754615600Z",
     "start_time": "2023-11-16T17:09:15.525616400Z"
    }
   },
   "id": "ae62da8eee80579d"
  },
  {
   "cell_type": "code",
   "execution_count": 108,
   "outputs": [
    {
     "data": {
      "text/plain": "0.2274623714700579"
     },
     "execution_count": 108,
     "metadata": {},
     "output_type": "execute_result"
    }
   ],
   "source": [
    "std_portfolio"
   ],
   "metadata": {
    "collapsed": false,
    "ExecuteTime": {
     "end_time": "2023-11-16T17:09:15.755614500Z",
     "start_time": "2023-11-16T17:09:15.543615900Z"
    }
   },
   "id": "40d8dbe0bd2a9f05"
  },
  {
   "cell_type": "code",
   "execution_count": 109,
   "outputs": [],
   "source": [
    "VaR_99= stats.norm.ppf(0.99)*std_portfolio*total_portfolio\n",
    "ten_day_VaR_99=VaR_99*((10/252)**0.5)"
   ],
   "metadata": {
    "collapsed": false,
    "ExecuteTime": {
     "end_time": "2023-11-16T17:09:15.755614500Z",
     "start_time": "2023-11-16T17:09:15.557615400Z"
    }
   },
   "id": "89108040cf6a0362"
  },
  {
   "cell_type": "code",
   "execution_count": 110,
   "outputs": [
    {
     "data": {
      "text/plain": "121.22209651842009"
     },
     "execution_count": 110,
     "metadata": {},
     "output_type": "execute_result"
    }
   ],
   "source": [
    "ten_day_VaR_99"
   ],
   "metadata": {
    "collapsed": false,
    "ExecuteTime": {
     "end_time": "2023-11-16T17:09:15.778615300Z",
     "start_time": "2023-11-16T17:09:15.573615500Z"
    }
   },
   "id": "cf81908d9a0b4c2c"
  },
  {
   "cell_type": "code",
   "execution_count": 129,
   "outputs": [
    {
     "data": {
      "text/plain": "0.02792060491493384"
     },
     "execution_count": 129,
     "metadata": {},
     "output_type": "execute_result"
    }
   ],
   "source": [
    "w_a**2*var_a+w_b**2*var_b"
   ],
   "metadata": {
    "collapsed": false,
    "ExecuteTime": {
     "end_time": "2023-11-16T19:10:07.858882900Z",
     "start_time": "2023-11-16T19:10:07.846882100Z"
    }
   },
   "id": "8fd5eb7d455f1d34"
  },
  {
   "cell_type": "code",
   "execution_count": 133,
   "outputs": [],
   "source": [
    "var_new=w_a**2*0.15**2+w_b**2*0.3**2"
   ],
   "metadata": {
    "collapsed": false,
    "ExecuteTime": {
     "end_time": "2023-11-16T19:14:56.350220800Z",
     "start_time": "2023-11-16T19:14:56.346207600Z"
    }
   },
   "id": "7f6a720b75383011"
  },
  {
   "cell_type": "code",
   "execution_count": 135,
   "outputs": [
    {
     "data": {
      "text/plain": "0.015141776937618145"
     },
     "execution_count": 135,
     "metadata": {},
     "output_type": "execute_result"
    }
   ],
   "source": [
    "var_new"
   ],
   "metadata": {
    "collapsed": false,
    "ExecuteTime": {
     "end_time": "2023-11-16T19:16:02.815681200Z",
     "start_time": "2023-11-16T19:16:02.775630400Z"
    }
   },
   "id": "f71c664f82b90d82"
  },
  {
   "cell_type": "code",
   "execution_count": 136,
   "outputs": [
    {
     "data": {
      "text/plain": "-65.57837489026804"
     },
     "execution_count": 136,
     "metadata": {},
     "output_type": "execute_result"
    }
   ],
   "source": [
    "total_portfolio*np.sqrt(10/252)*stats.norm.ppf(0.01)*np.sqrt(var_new)"
   ],
   "metadata": {
    "collapsed": false,
    "ExecuteTime": {
     "end_time": "2023-11-16T19:18:34.330650700Z",
     "start_time": "2023-11-16T19:18:34.294651200Z"
    }
   },
   "id": "81e4452e17cdadcf"
  },
  {
   "cell_type": "code",
   "execution_count": 137,
   "outputs": [
    {
     "data": {
      "text/plain": "array([ 0,  1,  2,  3,  4,  5,  6,  7,  8,  9, 10, 11, 12, 13, 14, 15, 16,\n       17, 18, 19, 20, 21, 22, 23, 24, 25, 26, 27, 28, 29, 30, 31, 32, 33,\n       34, 35, 36, 37, 38, 39, 40, 41, 42, 43, 44, 45, 46, 47, 48, 49, 50,\n       51, 52, 53, 54, 55, 56, 57, 58, 59, 60, 61, 62, 63, 64, 65, 66, 67,\n       68, 69, 70, 71, 72, 73, 74, 75, 76, 77, 78, 79, 80, 81, 82, 83, 84,\n       85, 86, 87, 88, 89, 90, 91, 92, 93, 94, 95, 96, 97, 98, 99])"
     },
     "execution_count": 137,
     "metadata": {},
     "output_type": "execute_result"
    }
   ],
   "source": [
    "np.arange(0,100)"
   ],
   "metadata": {
    "collapsed": false,
    "ExecuteTime": {
     "end_time": "2023-11-16T20:55:22.417459200Z",
     "start_time": "2023-11-16T20:55:22.325395500Z"
    }
   },
   "id": "7be955873af4d9e9"
  }
 ],
 "metadata": {
  "kernelspec": {
   "display_name": "Python 3",
   "language": "python",
   "name": "python3"
  },
  "language_info": {
   "codemirror_mode": {
    "name": "ipython",
    "version": 2
   },
   "file_extension": ".py",
   "mimetype": "text/x-python",
   "name": "python",
   "nbconvert_exporter": "python",
   "pygments_lexer": "ipython2",
   "version": "2.7.6"
  }
 },
 "nbformat": 4,
 "nbformat_minor": 5
}
